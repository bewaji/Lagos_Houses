{
 "cells": [
  {
   "cell_type": "code",
   "execution_count": 3,
   "id": "62f03769",
   "metadata": {},
   "outputs": [],
   "source": [
    "#import the libaries to work with\n",
    "import pandas as pd\n",
    "import matplotlib.pyplot as plt\n",
    "#%matplotlib inline\n",
    "import seaborn as sns"
   ]
  },
  {
   "cell_type": "code",
   "execution_count": 4,
   "id": "6833338f",
   "metadata": {},
   "outputs": [
    {
     "data": {
      "text/html": [
       "<div>\n",
       "<style scoped>\n",
       "    .dataframe tbody tr th:only-of-type {\n",
       "        vertical-align: middle;\n",
       "    }\n",
       "\n",
       "    .dataframe tbody tr th {\n",
       "        vertical-align: top;\n",
       "    }\n",
       "\n",
       "    .dataframe thead th {\n",
       "        text-align: right;\n",
       "    }\n",
       "</style>\n",
       "<table border=\"1\" class=\"dataframe\">\n",
       "  <thead>\n",
       "    <tr style=\"text-align: right;\">\n",
       "      <th></th>\n",
       "      <th>location</th>\n",
       "      <th>bed</th>\n",
       "      <th>bath</th>\n",
       "      <th>toilet</th>\n",
       "      <th>price</th>\n",
       "      <th>Property_Type</th>\n",
       "      <th>Parking_Space</th>\n",
       "      <th>Security</th>\n",
       "      <th>Electricity</th>\n",
       "      <th>Furnished</th>\n",
       "      <th>Security_Doors</th>\n",
       "      <th>CCTV</th>\n",
       "      <th>Pool</th>\n",
       "      <th>Gym</th>\n",
       "      <th>BQ</th>\n",
       "    </tr>\n",
       "  </thead>\n",
       "  <tbody>\n",
       "    <tr>\n",
       "      <th>0</th>\n",
       "      <td>yaba</td>\n",
       "      <td>1</td>\n",
       "      <td>1</td>\n",
       "      <td>2</td>\n",
       "      <td>700000.0</td>\n",
       "      <td>Mini flat</td>\n",
       "      <td>0</td>\n",
       "      <td>0</td>\n",
       "      <td>0</td>\n",
       "      <td>0</td>\n",
       "      <td>0</td>\n",
       "      <td>0</td>\n",
       "      <td>0</td>\n",
       "      <td>0</td>\n",
       "      <td>0</td>\n",
       "    </tr>\n",
       "    <tr>\n",
       "      <th>1</th>\n",
       "      <td>yaba</td>\n",
       "      <td>1</td>\n",
       "      <td>1</td>\n",
       "      <td>2</td>\n",
       "      <td>700000.0</td>\n",
       "      <td>Mini flat</td>\n",
       "      <td>0</td>\n",
       "      <td>0</td>\n",
       "      <td>0</td>\n",
       "      <td>0</td>\n",
       "      <td>0</td>\n",
       "      <td>0</td>\n",
       "      <td>0</td>\n",
       "      <td>0</td>\n",
       "      <td>0</td>\n",
       "    </tr>\n",
       "    <tr>\n",
       "      <th>2</th>\n",
       "      <td>yaba</td>\n",
       "      <td>1</td>\n",
       "      <td>1</td>\n",
       "      <td>2</td>\n",
       "      <td>650000.0</td>\n",
       "      <td>Mini flat</td>\n",
       "      <td>0</td>\n",
       "      <td>0</td>\n",
       "      <td>0</td>\n",
       "      <td>0</td>\n",
       "      <td>0</td>\n",
       "      <td>0</td>\n",
       "      <td>0</td>\n",
       "      <td>0</td>\n",
       "      <td>0</td>\n",
       "    </tr>\n",
       "    <tr>\n",
       "      <th>3</th>\n",
       "      <td>yaba</td>\n",
       "      <td>1</td>\n",
       "      <td>1</td>\n",
       "      <td>1</td>\n",
       "      <td>450000.0</td>\n",
       "      <td>Mini flat</td>\n",
       "      <td>0</td>\n",
       "      <td>0</td>\n",
       "      <td>0</td>\n",
       "      <td>0</td>\n",
       "      <td>0</td>\n",
       "      <td>0</td>\n",
       "      <td>0</td>\n",
       "      <td>0</td>\n",
       "      <td>0</td>\n",
       "    </tr>\n",
       "    <tr>\n",
       "      <th>4</th>\n",
       "      <td>yaba</td>\n",
       "      <td>3</td>\n",
       "      <td>3</td>\n",
       "      <td>4</td>\n",
       "      <td>800000.0</td>\n",
       "      <td>Detached duplex</td>\n",
       "      <td>0</td>\n",
       "      <td>1</td>\n",
       "      <td>0</td>\n",
       "      <td>0</td>\n",
       "      <td>0</td>\n",
       "      <td>0</td>\n",
       "      <td>0</td>\n",
       "      <td>0</td>\n",
       "      <td>0</td>\n",
       "    </tr>\n",
       "  </tbody>\n",
       "</table>\n",
       "</div>"
      ],
      "text/plain": [
       "  location  bed  bath  toilet     price    Property_Type  Parking_Space  \\\n",
       "0     yaba    1     1       2  700000.0        Mini flat              0   \n",
       "1     yaba    1     1       2  700000.0        Mini flat              0   \n",
       "2     yaba    1     1       2  650000.0        Mini flat              0   \n",
       "3     yaba    1     1       1  450000.0        Mini flat              0   \n",
       "4     yaba    3     3       4  800000.0  Detached duplex              0   \n",
       "\n",
       "   Security  Electricity  Furnished  Security_Doors  CCTV  Pool  Gym  BQ  \n",
       "0         0            0          0               0     0     0    0   0  \n",
       "1         0            0          0               0     0     0    0   0  \n",
       "2         0            0          0               0     0     0    0   0  \n",
       "3         0            0          0               0     0     0    0   0  \n",
       "4         1            0          0               0     0     0    0   0  "
      ]
     },
     "execution_count": 4,
     "metadata": {},
     "output_type": "execute_result"
    }
   ],
   "source": [
    "#load the data set\n",
    "\n",
    "#data = pd.read_excel('OnlineRetail.xlsx', index_col=0, sheet_name='Online Retail')\n",
    "\n",
    "#for the purpose of this class I saved the data as csv so that loading time is faster\n",
    "data = pd.read_csv('lagos_house_prices_raw.csv')\n",
    "data.head()"
   ]
  },
  {
   "cell_type": "code",
   "execution_count": 5,
   "id": "f495c9de",
   "metadata": {},
   "outputs": [
    {
     "data": {
      "text/plain": [
       "(5336, 15)"
      ]
     },
     "execution_count": 5,
     "metadata": {},
     "output_type": "execute_result"
    }
   ],
   "source": [
    "#view the shape of the data\n",
    "#DataFrame.shape tells you the number of rows and columns contained in the dataframe\n",
    "data.shape"
   ]
  },
  {
   "cell_type": "code",
   "execution_count": 6,
   "id": "55d87bd2",
   "metadata": {},
   "outputs": [
    {
     "data": {
      "text/html": [
       "<div>\n",
       "<style scoped>\n",
       "    .dataframe tbody tr th:only-of-type {\n",
       "        vertical-align: middle;\n",
       "    }\n",
       "\n",
       "    .dataframe tbody tr th {\n",
       "        vertical-align: top;\n",
       "    }\n",
       "\n",
       "    .dataframe thead th {\n",
       "        text-align: right;\n",
       "    }\n",
       "</style>\n",
       "<table border=\"1\" class=\"dataframe\">\n",
       "  <thead>\n",
       "    <tr style=\"text-align: right;\">\n",
       "      <th></th>\n",
       "      <th>location</th>\n",
       "      <th>bed</th>\n",
       "      <th>bath</th>\n",
       "      <th>toilet</th>\n",
       "      <th>price</th>\n",
       "      <th>Property_Type</th>\n",
       "      <th>Parking_Space</th>\n",
       "      <th>Security</th>\n",
       "      <th>Electricity</th>\n",
       "      <th>Furnished</th>\n",
       "      <th>Security_Doors</th>\n",
       "      <th>CCTV</th>\n",
       "      <th>Pool</th>\n",
       "      <th>Gym</th>\n",
       "      <th>BQ</th>\n",
       "    </tr>\n",
       "  </thead>\n",
       "  <tbody>\n",
       "    <tr>\n",
       "      <th>0</th>\n",
       "      <td>yaba</td>\n",
       "      <td>1</td>\n",
       "      <td>1</td>\n",
       "      <td>2</td>\n",
       "      <td>700000.0</td>\n",
       "      <td>Mini flat</td>\n",
       "      <td>0</td>\n",
       "      <td>0</td>\n",
       "      <td>0</td>\n",
       "      <td>0</td>\n",
       "      <td>0</td>\n",
       "      <td>0</td>\n",
       "      <td>0</td>\n",
       "      <td>0</td>\n",
       "      <td>0</td>\n",
       "    </tr>\n",
       "    <tr>\n",
       "      <th>1</th>\n",
       "      <td>yaba</td>\n",
       "      <td>1</td>\n",
       "      <td>1</td>\n",
       "      <td>2</td>\n",
       "      <td>700000.0</td>\n",
       "      <td>Mini flat</td>\n",
       "      <td>0</td>\n",
       "      <td>0</td>\n",
       "      <td>0</td>\n",
       "      <td>0</td>\n",
       "      <td>0</td>\n",
       "      <td>0</td>\n",
       "      <td>0</td>\n",
       "      <td>0</td>\n",
       "      <td>0</td>\n",
       "    </tr>\n",
       "    <tr>\n",
       "      <th>2</th>\n",
       "      <td>yaba</td>\n",
       "      <td>1</td>\n",
       "      <td>1</td>\n",
       "      <td>2</td>\n",
       "      <td>650000.0</td>\n",
       "      <td>Mini flat</td>\n",
       "      <td>0</td>\n",
       "      <td>0</td>\n",
       "      <td>0</td>\n",
       "      <td>0</td>\n",
       "      <td>0</td>\n",
       "      <td>0</td>\n",
       "      <td>0</td>\n",
       "      <td>0</td>\n",
       "      <td>0</td>\n",
       "    </tr>\n",
       "  </tbody>\n",
       "</table>\n",
       "</div>"
      ],
      "text/plain": [
       "  location  bed  bath  toilet     price Property_Type  Parking_Space  \\\n",
       "0     yaba    1     1       2  700000.0     Mini flat              0   \n",
       "1     yaba    1     1       2  700000.0     Mini flat              0   \n",
       "2     yaba    1     1       2  650000.0     Mini flat              0   \n",
       "\n",
       "   Security  Electricity  Furnished  Security_Doors  CCTV  Pool  Gym  BQ  \n",
       "0         0            0          0               0     0     0    0   0  \n",
       "1         0            0          0               0     0     0    0   0  \n",
       "2         0            0          0               0     0     0    0   0  "
      ]
     },
     "execution_count": 6,
     "metadata": {},
     "output_type": "execute_result"
    }
   ],
   "source": [
    "#check the head of the data\n",
    "data.head(3)"
   ]
  },
  {
   "cell_type": "code",
   "execution_count": 10,
   "id": "b9d65830",
   "metadata": {},
   "outputs": [
    {
     "data": {
      "text/html": [
       "<div>\n",
       "<style scoped>\n",
       "    .dataframe tbody tr th:only-of-type {\n",
       "        vertical-align: middle;\n",
       "    }\n",
       "\n",
       "    .dataframe tbody tr th {\n",
       "        vertical-align: top;\n",
       "    }\n",
       "\n",
       "    .dataframe thead th {\n",
       "        text-align: right;\n",
       "    }\n",
       "</style>\n",
       "<table border=\"1\" class=\"dataframe\">\n",
       "  <thead>\n",
       "    <tr style=\"text-align: right;\">\n",
       "      <th></th>\n",
       "      <th>location</th>\n",
       "      <th>bed</th>\n",
       "      <th>bath</th>\n",
       "      <th>toilet</th>\n",
       "      <th>price</th>\n",
       "      <th>Property_Type</th>\n",
       "      <th>Parking_Space</th>\n",
       "      <th>Security</th>\n",
       "      <th>Electricity</th>\n",
       "      <th>Furnished</th>\n",
       "      <th>Security_Doors</th>\n",
       "      <th>CCTV</th>\n",
       "      <th>Pool</th>\n",
       "      <th>Gym</th>\n",
       "      <th>BQ</th>\n",
       "    </tr>\n",
       "  </thead>\n",
       "  <tbody>\n",
       "    <tr>\n",
       "      <th>5331</th>\n",
       "      <td>ajah</td>\n",
       "      <td>1</td>\n",
       "      <td>1</td>\n",
       "      <td>2</td>\n",
       "      <td>600000.0</td>\n",
       "      <td>Mini flat</td>\n",
       "      <td>1</td>\n",
       "      <td>0</td>\n",
       "      <td>0</td>\n",
       "      <td>0</td>\n",
       "      <td>0</td>\n",
       "      <td>0</td>\n",
       "      <td>0</td>\n",
       "      <td>0</td>\n",
       "      <td>0</td>\n",
       "    </tr>\n",
       "    <tr>\n",
       "      <th>5332</th>\n",
       "      <td>ajah</td>\n",
       "      <td>2</td>\n",
       "      <td>2</td>\n",
       "      <td>2</td>\n",
       "      <td>700000.0</td>\n",
       "      <td>Mini flat</td>\n",
       "      <td>1</td>\n",
       "      <td>0</td>\n",
       "      <td>0</td>\n",
       "      <td>0</td>\n",
       "      <td>0</td>\n",
       "      <td>0</td>\n",
       "      <td>0</td>\n",
       "      <td>0</td>\n",
       "      <td>0</td>\n",
       "    </tr>\n",
       "    <tr>\n",
       "      <th>5333</th>\n",
       "      <td>ajah</td>\n",
       "      <td>4</td>\n",
       "      <td>4</td>\n",
       "      <td>5</td>\n",
       "      <td>1700000.0</td>\n",
       "      <td>Semi detached duplex</td>\n",
       "      <td>1</td>\n",
       "      <td>0</td>\n",
       "      <td>0</td>\n",
       "      <td>0</td>\n",
       "      <td>0</td>\n",
       "      <td>0</td>\n",
       "      <td>0</td>\n",
       "      <td>0</td>\n",
       "      <td>0</td>\n",
       "    </tr>\n",
       "    <tr>\n",
       "      <th>5334</th>\n",
       "      <td>ajah</td>\n",
       "      <td>1</td>\n",
       "      <td>1</td>\n",
       "      <td>2</td>\n",
       "      <td>500000.0</td>\n",
       "      <td>Mini flat</td>\n",
       "      <td>0</td>\n",
       "      <td>0</td>\n",
       "      <td>0</td>\n",
       "      <td>0</td>\n",
       "      <td>0</td>\n",
       "      <td>0</td>\n",
       "      <td>0</td>\n",
       "      <td>0</td>\n",
       "      <td>0</td>\n",
       "    </tr>\n",
       "    <tr>\n",
       "      <th>5335</th>\n",
       "      <td>ajah</td>\n",
       "      <td>4</td>\n",
       "      <td>4</td>\n",
       "      <td>5</td>\n",
       "      <td>1800000.0</td>\n",
       "      <td>Semi detached duplex</td>\n",
       "      <td>1</td>\n",
       "      <td>1</td>\n",
       "      <td>0</td>\n",
       "      <td>1</td>\n",
       "      <td>0</td>\n",
       "      <td>0</td>\n",
       "      <td>0</td>\n",
       "      <td>0</td>\n",
       "      <td>0</td>\n",
       "    </tr>\n",
       "  </tbody>\n",
       "</table>\n",
       "</div>"
      ],
      "text/plain": [
       "     location  bed  bath  toilet      price         Property_Type  \\\n",
       "5331     ajah    1     1       2   600000.0             Mini flat   \n",
       "5332     ajah    2     2       2   700000.0             Mini flat   \n",
       "5333     ajah    4     4       5  1700000.0  Semi detached duplex   \n",
       "5334     ajah    1     1       2   500000.0             Mini flat   \n",
       "5335     ajah    4     4       5  1800000.0  Semi detached duplex   \n",
       "\n",
       "      Parking_Space  Security  Electricity  Furnished  Security_Doors  CCTV  \\\n",
       "5331              1         0            0          0               0     0   \n",
       "5332              1         0            0          0               0     0   \n",
       "5333              1         0            0          0               0     0   \n",
       "5334              0         0            0          0               0     0   \n",
       "5335              1         1            0          1               0     0   \n",
       "\n",
       "      Pool  Gym  BQ  \n",
       "5331     0    0   0  \n",
       "5332     0    0   0  \n",
       "5333     0    0   0  \n",
       "5334     0    0   0  \n",
       "5335     0    0   0  "
      ]
     },
     "execution_count": 10,
     "metadata": {},
     "output_type": "execute_result"
    }
   ],
   "source": [
    "#check the tail of the data\n",
    "data.tail()"
   ]
  },
  {
   "cell_type": "code",
   "execution_count": 11,
   "id": "bd01dd9b",
   "metadata": {},
   "outputs": [
    {
     "name": "stdout",
     "output_type": "stream",
     "text": [
      "<class 'pandas.core.frame.DataFrame'>\n",
      "RangeIndex: 5336 entries, 0 to 5335\n",
      "Data columns (total 15 columns):\n",
      " #   Column          Non-Null Count  Dtype  \n",
      "---  ------          --------------  -----  \n",
      " 0   location        5336 non-null   object \n",
      " 1   bed             5336 non-null   int64  \n",
      " 2   bath            5336 non-null   int64  \n",
      " 3   toilet          5336 non-null   int64  \n",
      " 4   price           5336 non-null   float64\n",
      " 5   Property_Type   5336 non-null   object \n",
      " 6   Parking_Space   5336 non-null   int64  \n",
      " 7   Security        5336 non-null   int64  \n",
      " 8   Electricity     5336 non-null   int64  \n",
      " 9   Furnished       5336 non-null   int64  \n",
      " 10  Security_Doors  5336 non-null   int64  \n",
      " 11  CCTV            5336 non-null   int64  \n",
      " 12  Pool            5336 non-null   int64  \n",
      " 13  Gym             5336 non-null   int64  \n",
      " 14  BQ              5336 non-null   int64  \n",
      "dtypes: float64(1), int64(12), object(2)\n",
      "memory usage: 625.4+ KB\n"
     ]
    }
   ],
   "source": [
    "#view info relating to the data \n",
    "data.info()"
   ]
  },
  {
   "cell_type": "code",
   "execution_count": 12,
   "id": "b71d1cb8",
   "metadata": {},
   "outputs": [
    {
     "data": {
      "text/plain": [
       "location           object\n",
       "bed                 int64\n",
       "bath                int64\n",
       "toilet              int64\n",
       "price             float64\n",
       "Property_Type      object\n",
       "Parking_Space       int64\n",
       "Security            int64\n",
       "Electricity         int64\n",
       "Furnished           int64\n",
       "Security_Doors      int64\n",
       "CCTV                int64\n",
       "Pool                int64\n",
       "Gym                 int64\n",
       "BQ                  int64\n",
       "dtype: object"
      ]
     },
     "execution_count": 12,
     "metadata": {},
     "output_type": "execute_result"
    }
   ],
   "source": [
    "#there's another way to view data types\n",
    "data.dtypes"
   ]
  },
  {
   "cell_type": "code",
   "execution_count": 13,
   "id": "50422d29",
   "metadata": {},
   "outputs": [
    {
     "data": {
      "text/plain": [
       "Index(['location', 'bed', 'bath', 'toilet', 'price', 'Property_Type',\n",
       "       'Parking_Space', 'Security', 'Electricity', 'Furnished',\n",
       "       'Security_Doors', 'CCTV', 'Pool', 'Gym', 'BQ'],\n",
       "      dtype='object')"
      ]
     },
     "execution_count": 13,
     "metadata": {},
     "output_type": "execute_result"
    }
   ],
   "source": [
    "#if the data set had a large number of columns, you can view the column names by accessing the columns attribute\n",
    "data.columns"
   ]
  },
  {
   "cell_type": "code",
   "execution_count": 14,
   "id": "565b49ae",
   "metadata": {},
   "outputs": [
    {
     "data": {
      "text/html": [
       "<div>\n",
       "<style scoped>\n",
       "    .dataframe tbody tr th:only-of-type {\n",
       "        vertical-align: middle;\n",
       "    }\n",
       "\n",
       "    .dataframe tbody tr th {\n",
       "        vertical-align: top;\n",
       "    }\n",
       "\n",
       "    .dataframe thead th {\n",
       "        text-align: right;\n",
       "    }\n",
       "</style>\n",
       "<table border=\"1\" class=\"dataframe\">\n",
       "  <thead>\n",
       "    <tr style=\"text-align: right;\">\n",
       "      <th></th>\n",
       "      <th>bed</th>\n",
       "      <th>bath</th>\n",
       "      <th>toilet</th>\n",
       "      <th>price</th>\n",
       "      <th>Parking_Space</th>\n",
       "      <th>Security</th>\n",
       "      <th>Electricity</th>\n",
       "      <th>Furnished</th>\n",
       "      <th>Security_Doors</th>\n",
       "      <th>CCTV</th>\n",
       "      <th>Pool</th>\n",
       "      <th>Gym</th>\n",
       "      <th>BQ</th>\n",
       "    </tr>\n",
       "  </thead>\n",
       "  <tbody>\n",
       "    <tr>\n",
       "      <th>count</th>\n",
       "      <td>5336.000000</td>\n",
       "      <td>5336.000000</td>\n",
       "      <td>5336.000000</td>\n",
       "      <td>5.336000e+03</td>\n",
       "      <td>5336.000000</td>\n",
       "      <td>5336.000000</td>\n",
       "      <td>5336.000000</td>\n",
       "      <td>5336.000000</td>\n",
       "      <td>5336.000000</td>\n",
       "      <td>5336.000000</td>\n",
       "      <td>5336.000000</td>\n",
       "      <td>5336.000000</td>\n",
       "      <td>5336.000000</td>\n",
       "    </tr>\n",
       "    <tr>\n",
       "      <th>mean</th>\n",
       "      <td>1.393178</td>\n",
       "      <td>1.447901</td>\n",
       "      <td>1.637181</td>\n",
       "      <td>6.455669e+05</td>\n",
       "      <td>0.122001</td>\n",
       "      <td>0.104573</td>\n",
       "      <td>0.023051</td>\n",
       "      <td>0.020240</td>\n",
       "      <td>0.000937</td>\n",
       "      <td>0.006372</td>\n",
       "      <td>0.005997</td>\n",
       "      <td>0.001312</td>\n",
       "      <td>0.013306</td>\n",
       "    </tr>\n",
       "    <tr>\n",
       "      <th>std</th>\n",
       "      <td>0.773157</td>\n",
       "      <td>0.793780</td>\n",
       "      <td>0.965145</td>\n",
       "      <td>4.693053e+05</td>\n",
       "      <td>0.327318</td>\n",
       "      <td>0.306031</td>\n",
       "      <td>0.150079</td>\n",
       "      <td>0.140833</td>\n",
       "      <td>0.030599</td>\n",
       "      <td>0.079576</td>\n",
       "      <td>0.077215</td>\n",
       "      <td>0.036199</td>\n",
       "      <td>0.114592</td>\n",
       "    </tr>\n",
       "    <tr>\n",
       "      <th>min</th>\n",
       "      <td>1.000000</td>\n",
       "      <td>1.000000</td>\n",
       "      <td>1.000000</td>\n",
       "      <td>1.500000e+02</td>\n",
       "      <td>0.000000</td>\n",
       "      <td>0.000000</td>\n",
       "      <td>0.000000</td>\n",
       "      <td>0.000000</td>\n",
       "      <td>0.000000</td>\n",
       "      <td>0.000000</td>\n",
       "      <td>0.000000</td>\n",
       "      <td>0.000000</td>\n",
       "      <td>0.000000</td>\n",
       "    </tr>\n",
       "    <tr>\n",
       "      <th>25%</th>\n",
       "      <td>1.000000</td>\n",
       "      <td>1.000000</td>\n",
       "      <td>1.000000</td>\n",
       "      <td>3.500000e+05</td>\n",
       "      <td>0.000000</td>\n",
       "      <td>0.000000</td>\n",
       "      <td>0.000000</td>\n",
       "      <td>0.000000</td>\n",
       "      <td>0.000000</td>\n",
       "      <td>0.000000</td>\n",
       "      <td>0.000000</td>\n",
       "      <td>0.000000</td>\n",
       "      <td>0.000000</td>\n",
       "    </tr>\n",
       "    <tr>\n",
       "      <th>50%</th>\n",
       "      <td>1.000000</td>\n",
       "      <td>1.000000</td>\n",
       "      <td>1.000000</td>\n",
       "      <td>5.000000e+05</td>\n",
       "      <td>0.000000</td>\n",
       "      <td>0.000000</td>\n",
       "      <td>0.000000</td>\n",
       "      <td>0.000000</td>\n",
       "      <td>0.000000</td>\n",
       "      <td>0.000000</td>\n",
       "      <td>0.000000</td>\n",
       "      <td>0.000000</td>\n",
       "      <td>0.000000</td>\n",
       "    </tr>\n",
       "    <tr>\n",
       "      <th>75%</th>\n",
       "      <td>1.000000</td>\n",
       "      <td>2.000000</td>\n",
       "      <td>2.000000</td>\n",
       "      <td>8.000000e+05</td>\n",
       "      <td>0.000000</td>\n",
       "      <td>0.000000</td>\n",
       "      <td>0.000000</td>\n",
       "      <td>0.000000</td>\n",
       "      <td>0.000000</td>\n",
       "      <td>0.000000</td>\n",
       "      <td>0.000000</td>\n",
       "      <td>0.000000</td>\n",
       "      <td>0.000000</td>\n",
       "    </tr>\n",
       "    <tr>\n",
       "      <th>max</th>\n",
       "      <td>5.000000</td>\n",
       "      <td>5.000000</td>\n",
       "      <td>5.000000</td>\n",
       "      <td>2.450000e+06</td>\n",
       "      <td>1.000000</td>\n",
       "      <td>1.000000</td>\n",
       "      <td>1.000000</td>\n",
       "      <td>1.000000</td>\n",
       "      <td>1.000000</td>\n",
       "      <td>1.000000</td>\n",
       "      <td>1.000000</td>\n",
       "      <td>1.000000</td>\n",
       "      <td>1.000000</td>\n",
       "    </tr>\n",
       "  </tbody>\n",
       "</table>\n",
       "</div>"
      ],
      "text/plain": [
       "               bed         bath       toilet         price  Parking_Space  \\\n",
       "count  5336.000000  5336.000000  5336.000000  5.336000e+03    5336.000000   \n",
       "mean      1.393178     1.447901     1.637181  6.455669e+05       0.122001   \n",
       "std       0.773157     0.793780     0.965145  4.693053e+05       0.327318   \n",
       "min       1.000000     1.000000     1.000000  1.500000e+02       0.000000   \n",
       "25%       1.000000     1.000000     1.000000  3.500000e+05       0.000000   \n",
       "50%       1.000000     1.000000     1.000000  5.000000e+05       0.000000   \n",
       "75%       1.000000     2.000000     2.000000  8.000000e+05       0.000000   \n",
       "max       5.000000     5.000000     5.000000  2.450000e+06       1.000000   \n",
       "\n",
       "          Security  Electricity    Furnished  Security_Doors         CCTV  \\\n",
       "count  5336.000000  5336.000000  5336.000000     5336.000000  5336.000000   \n",
       "mean      0.104573     0.023051     0.020240        0.000937     0.006372   \n",
       "std       0.306031     0.150079     0.140833        0.030599     0.079576   \n",
       "min       0.000000     0.000000     0.000000        0.000000     0.000000   \n",
       "25%       0.000000     0.000000     0.000000        0.000000     0.000000   \n",
       "50%       0.000000     0.000000     0.000000        0.000000     0.000000   \n",
       "75%       0.000000     0.000000     0.000000        0.000000     0.000000   \n",
       "max       1.000000     1.000000     1.000000        1.000000     1.000000   \n",
       "\n",
       "              Pool          Gym           BQ  \n",
       "count  5336.000000  5336.000000  5336.000000  \n",
       "mean      0.005997     0.001312     0.013306  \n",
       "std       0.077215     0.036199     0.114592  \n",
       "min       0.000000     0.000000     0.000000  \n",
       "25%       0.000000     0.000000     0.000000  \n",
       "50%       0.000000     0.000000     0.000000  \n",
       "75%       0.000000     0.000000     0.000000  \n",
       "max       1.000000     1.000000     1.000000  "
      ]
     },
     "execution_count": 14,
     "metadata": {},
     "output_type": "execute_result"
    }
   ],
   "source": [
    "#view summary statistics\n",
    "data.describe()"
   ]
  },
  {
   "cell_type": "code",
   "execution_count": 15,
   "id": "55adacdd",
   "metadata": {},
   "outputs": [
    {
     "data": {
      "text/plain": [
       "location          0\n",
       "bed               0\n",
       "bath              0\n",
       "toilet            0\n",
       "price             0\n",
       "Property_Type     0\n",
       "Parking_Space     0\n",
       "Security          0\n",
       "Electricity       0\n",
       "Furnished         0\n",
       "Security_Doors    0\n",
       "CCTV              0\n",
       "Pool              0\n",
       "Gym               0\n",
       "BQ                0\n",
       "dtype: int64"
      ]
     },
     "execution_count": 15,
     "metadata": {},
     "output_type": "execute_result"
    }
   ],
   "source": [
    "#check for missing data\n",
    "data.isna().sum()"
   ]
  },
  {
   "cell_type": "code",
   "execution_count": null,
   "id": "8019cdc7",
   "metadata": {},
   "outputs": [],
   "source": []
  },
  {
   "cell_type": "code",
   "execution_count": null,
   "id": "fd12de94",
   "metadata": {},
   "outputs": [],
   "source": []
  },
  {
   "cell_type": "code",
   "execution_count": null,
   "id": "86e3c5da",
   "metadata": {},
   "outputs": [],
   "source": [
    "\n"
   ]
  },
  {
   "cell_type": "code",
   "execution_count": 33,
   "id": "18a16c57",
   "metadata": {},
   "outputs": [
    {
     "data": {
      "text/plain": [
       "0"
      ]
     },
     "execution_count": 33,
     "metadata": {},
     "output_type": "execute_result"
    }
   ],
   "source": [
    "len(data[data.bed.isna()].Property_Type.unique())"
   ]
  },
  {
   "cell_type": "code",
   "execution_count": 35,
   "id": "299b8ea6",
   "metadata": {},
   "outputs": [
    {
     "data": {
      "text/plain": [
       "Series([], Name: CCTV, dtype: int64)"
      ]
     },
     "execution_count": 35,
     "metadata": {},
     "output_type": "execute_result"
    }
   ],
   "source": [
    "data[data.Property_Type.isna()].CCTV.value_counts()"
   ]
  },
  {
   "cell_type": "code",
   "execution_count": 52,
   "id": "d750c620",
   "metadata": {},
   "outputs": [
    {
     "name": "stdout",
     "output_type": "stream",
     "text": [
      "Total number of records:  5336\n",
      "Number of records with missing description:  0\n",
      "Number of records without missing description:  5336\n"
     ]
    }
   ],
   "source": [
    "#assuming you don't want to keep records that have no description, you can choose to delete those rows \n",
    "\n",
    "\n",
    "print('Total number of records: ',data.shape[0])\n",
    "print('Number of records with missing description: ',data[data.CCTV.isna()].shape[0])\n",
    "print('Number of records without missing description: ',data[data.Furnished.notna()].shape[0])"
   ]
  },
  {
   "cell_type": "code",
   "execution_count": 59,
   "id": "7ebd7bf8",
   "metadata": {},
   "outputs": [
    {
     "data": {
      "text/plain": [
       "0.0"
      ]
     },
     "execution_count": 59,
     "metadata": {},
     "output_type": "execute_result"
    }
   ],
   "source": [
    "data[data.Property_Type.isna()].shape[0]/data.shape[0]*100"
   ]
  },
  {
   "cell_type": "code",
   "execution_count": 53,
   "id": "edc161ab",
   "metadata": {},
   "outputs": [],
   "source": [
    "#one easy way to do this is to use notna() to select records that are not NaN\n",
    "\n",
    "data_clean_desc = data[data.Security_Doors.notna()]"
   ]
  },
  {
   "cell_type": "code",
   "execution_count": 54,
   "id": "46981b37",
   "metadata": {},
   "outputs": [
    {
     "data": {
      "text/plain": [
       "location          0\n",
       "bed               0\n",
       "bath              0\n",
       "toilet            0\n",
       "price             0\n",
       "Property_Type     0\n",
       "Parking_Space     0\n",
       "Security          0\n",
       "Electricity       0\n",
       "Furnished         0\n",
       "Security_Doors    0\n",
       "CCTV              0\n",
       "Pool              0\n",
       "Gym               0\n",
       "BQ                0\n",
       "dtype: int64"
      ]
     },
     "execution_count": 54,
     "metadata": {},
     "output_type": "execute_result"
    }
   ],
   "source": [
    "#what are the rows with NaN values\n",
    "data_clean_desc.isna().sum()"
   ]
  },
  {
   "cell_type": "code",
   "execution_count": 62,
   "id": "8c363f6f",
   "metadata": {},
   "outputs": [
    {
     "data": {
      "text/plain": [
       "Series([], Name: Furnished, dtype: int64)"
      ]
     },
     "execution_count": 62,
     "metadata": {},
     "output_type": "execute_result"
    }
   ],
   "source": [
    "#Let's see what the replace operation will do\n",
    "data_clean_desc[data_clean_desc.Furnished=='EIRE'].Furnished.replace('EIRE','Decorated')"
   ]
  },
  {
   "cell_type": "code",
   "execution_count": 65,
   "id": "7470ed24",
   "metadata": {},
   "outputs": [
    {
     "data": {
      "text/plain": [
       "Mini flat                 3070\n",
       "Self contain              1345\n",
       "Flat / apartment           686\n",
       "Semi detached duplex        66\n",
       "Detached duplex             53\n",
       "Blocks of flats             42\n",
       "Terraced duplex             38\n",
       "Detached bungalow           18\n",
       "Penthouse flat              14\n",
       "Semi detached bungalow       3\n",
       "Massionette house            1\n",
       "Name: Property_Type, dtype: int64"
      ]
     },
     "execution_count": 65,
     "metadata": {},
     "output_type": "execute_result"
    }
   ],
   "source": [
    "data_clean_desc.Property_Type.value_counts()"
   ]
  },
  {
   "cell_type": "code",
   "execution_count": 66,
   "id": "c1147efc",
   "metadata": {},
   "outputs": [
    {
     "data": {
      "text/plain": [
       "location           object\n",
       "bed                 int64\n",
       "bath                int64\n",
       "toilet              int64\n",
       "price             float64\n",
       "Property_Type      object\n",
       "Parking_Space       int64\n",
       "Security            int64\n",
       "Electricity         int64\n",
       "Furnished           int64\n",
       "Security_Doors      int64\n",
       "CCTV                int64\n",
       "Pool                int64\n",
       "Gym                 int64\n",
       "BQ                  int64\n",
       "dtype: object"
      ]
     },
     "execution_count": 66,
     "metadata": {},
     "output_type": "execute_result"
    }
   ],
   "source": [
    "data_clean_desc.dtypes"
   ]
  },
  {
   "cell_type": "code",
   "execution_count": 67,
   "id": "a0a13fe6",
   "metadata": {},
   "outputs": [
    {
     "data": {
      "text/plain": [
       "location          0\n",
       "bed               0\n",
       "bath              0\n",
       "toilet            0\n",
       "price             0\n",
       "Property_Type     0\n",
       "Parking_Space     0\n",
       "Security          0\n",
       "Electricity       0\n",
       "Furnished         0\n",
       "Security_Doors    0\n",
       "CCTV              0\n",
       "Pool              0\n",
       "Gym               0\n",
       "BQ                0\n",
       "dtype: int64"
      ]
     },
     "execution_count": 67,
     "metadata": {},
     "output_type": "execute_result"
    }
   ],
   "source": [
    "data_clean_desc.isna().sum()"
   ]
  },
  {
   "cell_type": "code",
   "execution_count": 72,
   "id": "175e49cc",
   "metadata": {},
   "outputs": [
    {
     "data": {
      "text/html": [
       "<div>\n",
       "<style scoped>\n",
       "    .dataframe tbody tr th:only-of-type {\n",
       "        vertical-align: middle;\n",
       "    }\n",
       "\n",
       "    .dataframe tbody tr th {\n",
       "        vertical-align: top;\n",
       "    }\n",
       "\n",
       "    .dataframe thead th {\n",
       "        text-align: right;\n",
       "    }\n",
       "</style>\n",
       "<table border=\"1\" class=\"dataframe\">\n",
       "  <thead>\n",
       "    <tr style=\"text-align: right;\">\n",
       "      <th></th>\n",
       "      <th>bed</th>\n",
       "      <th>bath</th>\n",
       "      <th>toilet</th>\n",
       "      <th>price</th>\n",
       "      <th>Parking_Space</th>\n",
       "      <th>Security</th>\n",
       "      <th>Electricity</th>\n",
       "      <th>Furnished</th>\n",
       "      <th>Security_Doors</th>\n",
       "      <th>CCTV</th>\n",
       "      <th>Pool</th>\n",
       "      <th>Gym</th>\n",
       "      <th>BQ</th>\n",
       "    </tr>\n",
       "  </thead>\n",
       "  <tbody>\n",
       "    <tr>\n",
       "      <th>bed</th>\n",
       "      <td>1.000000</td>\n",
       "      <td>0.900776</td>\n",
       "      <td>0.861887</td>\n",
       "      <td>0.569923</td>\n",
       "      <td>-0.033300</td>\n",
       "      <td>0.036921</td>\n",
       "      <td>-0.028045</td>\n",
       "      <td>0.011253</td>\n",
       "      <td>0.071576</td>\n",
       "      <td>-0.001121</td>\n",
       "      <td>-0.030084</td>\n",
       "      <td>-0.011735</td>\n",
       "      <td>0.146159</td>\n",
       "    </tr>\n",
       "    <tr>\n",
       "      <th>bath</th>\n",
       "      <td>0.900776</td>\n",
       "      <td>1.000000</td>\n",
       "      <td>0.902604</td>\n",
       "      <td>0.562044</td>\n",
       "      <td>-0.022064</td>\n",
       "      <td>0.052525</td>\n",
       "      <td>-0.015879</td>\n",
       "      <td>0.007758</td>\n",
       "      <td>0.075322</td>\n",
       "      <td>0.005256</td>\n",
       "      <td>-0.034658</td>\n",
       "      <td>-0.013929</td>\n",
       "      <td>0.142597</td>\n",
       "    </tr>\n",
       "    <tr>\n",
       "      <th>toilet</th>\n",
       "      <td>0.861887</td>\n",
       "      <td>0.902604</td>\n",
       "      <td>1.000000</td>\n",
       "      <td>0.605079</td>\n",
       "      <td>-0.014718</td>\n",
       "      <td>0.054864</td>\n",
       "      <td>-0.009541</td>\n",
       "      <td>0.029214</td>\n",
       "      <td>0.081329</td>\n",
       "      <td>0.020344</td>\n",
       "      <td>-0.023617</td>\n",
       "      <td>-0.013200</td>\n",
       "      <td>0.141957</td>\n",
       "    </tr>\n",
       "  </tbody>\n",
       "</table>\n",
       "</div>"
      ],
      "text/plain": [
       "             bed      bath    toilet     price  Parking_Space  Security  \\\n",
       "bed     1.000000  0.900776  0.861887  0.569923      -0.033300  0.036921   \n",
       "bath    0.900776  1.000000  0.902604  0.562044      -0.022064  0.052525   \n",
       "toilet  0.861887  0.902604  1.000000  0.605079      -0.014718  0.054864   \n",
       "\n",
       "        Electricity  Furnished  Security_Doors      CCTV      Pool       Gym  \\\n",
       "bed       -0.028045   0.011253        0.071576 -0.001121 -0.030084 -0.011735   \n",
       "bath      -0.015879   0.007758        0.075322  0.005256 -0.034658 -0.013929   \n",
       "toilet    -0.009541   0.029214        0.081329  0.020344 -0.023617 -0.013200   \n",
       "\n",
       "              BQ  \n",
       "bed     0.146159  \n",
       "bath    0.142597  \n",
       "toilet  0.141957  "
      ]
     },
     "execution_count": 72,
     "metadata": {},
     "output_type": "execute_result"
    }
   ],
   "source": [
    "#check correlations\n",
    "data_clean_desc.corr().head(3)"
   ]
  },
  {
   "cell_type": "code",
   "execution_count": 76,
   "id": "ffc91a29",
   "metadata": {},
   "outputs": [
    {
     "data": {
      "text/plain": [
       "0          Mini flat\n",
       "1          Mini flat\n",
       "2          Mini flat\n",
       "3          Mini flat\n",
       "4    Detached duplex\n",
       "Name: Property_Type, dtype: object"
      ]
     },
     "execution_count": 76,
     "metadata": {},
     "output_type": "execute_result"
    }
   ],
   "source": [
    "data_clean_desc['Property_Type'].head()"
   ]
  },
  {
   "cell_type": "code",
   "execution_count": 77,
   "id": "35e6a326",
   "metadata": {
    "scrolled": true
   },
   "outputs": [
    {
     "data": {
      "text/html": [
       "<div>\n",
       "<style scoped>\n",
       "    .dataframe tbody tr th:only-of-type {\n",
       "        vertical-align: middle;\n",
       "    }\n",
       "\n",
       "    .dataframe tbody tr th {\n",
       "        vertical-align: top;\n",
       "    }\n",
       "\n",
       "    .dataframe thead th {\n",
       "        text-align: right;\n",
       "    }\n",
       "</style>\n",
       "<table border=\"1\" class=\"dataframe\">\n",
       "  <thead>\n",
       "    <tr style=\"text-align: right;\">\n",
       "      <th></th>\n",
       "      <th>location</th>\n",
       "      <th>bed</th>\n",
       "      <th>bath</th>\n",
       "      <th>toilet</th>\n",
       "      <th>price</th>\n",
       "      <th>Property_Type</th>\n",
       "      <th>Parking_Space</th>\n",
       "      <th>Security</th>\n",
       "      <th>Electricity</th>\n",
       "      <th>Furnished</th>\n",
       "      <th>Security_Doors</th>\n",
       "      <th>CCTV</th>\n",
       "      <th>Pool</th>\n",
       "      <th>Gym</th>\n",
       "      <th>BQ</th>\n",
       "    </tr>\n",
       "  </thead>\n",
       "  <tbody>\n",
       "    <tr>\n",
       "      <th>0</th>\n",
       "      <td>yaba</td>\n",
       "      <td>1</td>\n",
       "      <td>1</td>\n",
       "      <td>2</td>\n",
       "      <td>700000.0</td>\n",
       "      <td>Mini flat</td>\n",
       "      <td>0</td>\n",
       "      <td>0</td>\n",
       "      <td>0</td>\n",
       "      <td>0</td>\n",
       "      <td>0</td>\n",
       "      <td>0</td>\n",
       "      <td>0</td>\n",
       "      <td>0</td>\n",
       "      <td>0</td>\n",
       "    </tr>\n",
       "    <tr>\n",
       "      <th>1</th>\n",
       "      <td>yaba</td>\n",
       "      <td>1</td>\n",
       "      <td>1</td>\n",
       "      <td>2</td>\n",
       "      <td>700000.0</td>\n",
       "      <td>Mini flat</td>\n",
       "      <td>0</td>\n",
       "      <td>0</td>\n",
       "      <td>0</td>\n",
       "      <td>0</td>\n",
       "      <td>0</td>\n",
       "      <td>0</td>\n",
       "      <td>0</td>\n",
       "      <td>0</td>\n",
       "      <td>0</td>\n",
       "    </tr>\n",
       "    <tr>\n",
       "      <th>2</th>\n",
       "      <td>yaba</td>\n",
       "      <td>1</td>\n",
       "      <td>1</td>\n",
       "      <td>2</td>\n",
       "      <td>650000.0</td>\n",
       "      <td>Mini flat</td>\n",
       "      <td>0</td>\n",
       "      <td>0</td>\n",
       "      <td>0</td>\n",
       "      <td>0</td>\n",
       "      <td>0</td>\n",
       "      <td>0</td>\n",
       "      <td>0</td>\n",
       "      <td>0</td>\n",
       "      <td>0</td>\n",
       "    </tr>\n",
       "    <tr>\n",
       "      <th>3</th>\n",
       "      <td>yaba</td>\n",
       "      <td>1</td>\n",
       "      <td>1</td>\n",
       "      <td>1</td>\n",
       "      <td>450000.0</td>\n",
       "      <td>Mini flat</td>\n",
       "      <td>0</td>\n",
       "      <td>0</td>\n",
       "      <td>0</td>\n",
       "      <td>0</td>\n",
       "      <td>0</td>\n",
       "      <td>0</td>\n",
       "      <td>0</td>\n",
       "      <td>0</td>\n",
       "      <td>0</td>\n",
       "    </tr>\n",
       "    <tr>\n",
       "      <th>4</th>\n",
       "      <td>yaba</td>\n",
       "      <td>3</td>\n",
       "      <td>3</td>\n",
       "      <td>4</td>\n",
       "      <td>800000.0</td>\n",
       "      <td>Detached duplex</td>\n",
       "      <td>0</td>\n",
       "      <td>1</td>\n",
       "      <td>0</td>\n",
       "      <td>0</td>\n",
       "      <td>0</td>\n",
       "      <td>0</td>\n",
       "      <td>0</td>\n",
       "      <td>0</td>\n",
       "      <td>0</td>\n",
       "    </tr>\n",
       "  </tbody>\n",
       "</table>\n",
       "</div>"
      ],
      "text/plain": [
       "  location  bed  bath  toilet     price    Property_Type  Parking_Space  \\\n",
       "0     yaba    1     1       2  700000.0        Mini flat              0   \n",
       "1     yaba    1     1       2  700000.0        Mini flat              0   \n",
       "2     yaba    1     1       2  650000.0        Mini flat              0   \n",
       "3     yaba    1     1       1  450000.0        Mini flat              0   \n",
       "4     yaba    3     3       4  800000.0  Detached duplex              0   \n",
       "\n",
       "   Security  Electricity  Furnished  Security_Doors  CCTV  Pool  Gym  BQ  \n",
       "0         0            0          0               0     0     0    0   0  \n",
       "1         0            0          0               0     0     0    0   0  \n",
       "2         0            0          0               0     0     0    0   0  \n",
       "3         0            0          0               0     0     0    0   0  \n",
       "4         1            0          0               0     0     0    0   0  "
      ]
     },
     "execution_count": 77,
     "metadata": {},
     "output_type": "execute_result"
    }
   ],
   "source": [
    "data_clean_desc.head()"
   ]
  },
  {
   "cell_type": "code",
   "execution_count": 82,
   "id": "9917fd38",
   "metadata": {},
   "outputs": [
    {
     "data": {
      "text/plain": [
       "Property_Type\n",
       "Blocks of flats           3.142857\n",
       "Detached bungalow         3.666667\n",
       "Detached duplex           4.188679\n",
       "Flat / apartment          2.921283\n",
       "Massionette house         4.000000\n",
       "Mini flat                 1.338111\n",
       "Penthouse flat            2.714286\n",
       "Self contain              1.259480\n",
       "Semi detached bungalow    4.000000\n",
       "Semi detached duplex      4.469697\n",
       "Terraced duplex           4.236842\n",
       "Name: toilet, dtype: float64"
      ]
     },
     "execution_count": 82,
     "metadata": {},
     "output_type": "execute_result"
    }
   ],
   "source": [
    "data_clean_desc.groupby('Property_Type').toilet.mean()"
   ]
  },
  {
   "cell_type": "code",
   "execution_count": 1,
   "id": "46103a62",
   "metadata": {},
   "outputs": [
    {
     "ename": "NameError",
     "evalue": "name 'lagos_houses' is not defined",
     "output_type": "error",
     "traceback": [
      "\u001b[1;31m---------------------------------------------------------------------------\u001b[0m",
      "\u001b[1;31mNameError\u001b[0m                                 Traceback (most recent call last)",
      "\u001b[1;32m<ipython-input-1-1ec60e7f2d0f>\u001b[0m in \u001b[0;36m<module>\u001b[1;34m\u001b[0m\n\u001b[1;32m----> 1\u001b[1;33m \u001b[0mlagos_houses\u001b[0m\u001b[1;33m.\u001b[0m\u001b[0mlocation\u001b[0m\u001b[1;33m.\u001b[0m\u001b[0mvalue_counts\u001b[0m\u001b[1;33m(\u001b[0m\u001b[1;33m)\u001b[0m\u001b[1;33m\u001b[0m\u001b[1;33m\u001b[0m\u001b[0m\n\u001b[0m",
      "\u001b[1;31mNameError\u001b[0m: name 'lagos_houses' is not defined"
     ]
    }
   ],
   "source": [
    "lagos_houses.location.value_counts()"
   ]
  },
  {
   "cell_type": "code",
   "execution_count": 83,
   "id": "d7c3af5d",
   "metadata": {},
   "outputs": [
    {
     "data": {
      "text/plain": [
       "645566.9053598201"
      ]
     },
     "execution_count": 83,
     "metadata": {},
     "output_type": "execute_result"
    }
   ],
   "source": [
    "data_clean_desc.price.mean()"
   ]
  },
  {
   "cell_type": "code",
   "execution_count": 92,
   "id": "183195f4",
   "metadata": {},
   "outputs": [
    {
     "data": {
      "text/plain": [
       "Property_Type\n",
       "Mini flat                 23\n",
       "Self contain               7\n",
       "Detached bungalow          1\n",
       "Detached duplex            1\n",
       "Flat / apartment           1\n",
       "Semi detached duplex       1\n",
       "Blocks of flats            0\n",
       "Massionette house          0\n",
       "Penthouse flat             0\n",
       "Semi detached bungalow     0\n",
       "Name: CCTV, dtype: int32"
      ]
     },
     "execution_count": 92,
     "metadata": {},
     "output_type": "execute_result"
    }
   ],
   "source": [
    "data_clean_desc.groupby('Property_Type').CCTV.sum().astype(int).sort_values(ascending=False)[:10]"
   ]
  },
  {
   "cell_type": "code",
   "execution_count": 84,
   "id": "9cc24d56",
   "metadata": {},
   "outputs": [
    {
     "data": {
      "text/plain": [
       "<AxesSubplot:>"
      ]
     },
     "execution_count": 84,
     "metadata": {},
     "output_type": "execute_result"
    },
    {
     "data": {
      "image/png": "[encoded data removed]",
      "text/plain": [
       "<Figure size 432x288 with 2 Axes>"
      ]
     },
     "metadata": {
      "needs_background": "light"
     },
     "output_type": "display_data"
    }
   ],
   "source": [
    "#you can visualize correlations using a heatmap\n",
    "\n",
    "sns.heatmap(data_clean_desc.corr(),annot=True)"
   ]
  },
  {
   "cell_type": "code",
   "execution_count": 85,
   "id": "cd3f164a",
   "metadata": {},
   "outputs": [
    {
     "data": {
      "text/plain": [
       "<seaborn.axisgrid.FacetGrid at 0x2206e860f40>"
      ]
     },
     "execution_count": 85,
     "metadata": {},
     "output_type": "execute_result"
    },
    {
     "data": {
      "image/png": "[encoded data removed]",
      "text/plain": [
       "<Figure size 360x360 with 1 Axes>"
      ]
     },
     "metadata": {
      "needs_background": "light"
     },
     "output_type": "display_data"
    }
   ],
   "source": [
    "sns.catplot(data=data_clean_desc,kind='box')"
   ]
  },
  {
   "cell_type": "code",
   "execution_count": 86,
   "id": "a6cddaf2",
   "metadata": {},
   "outputs": [],
   "source": [
    "#sns.pairplot(data=data_clean_desc)"
   ]
  },
  {
   "cell_type": "code",
   "execution_count": 94,
   "id": "8f8e8542",
   "metadata": {},
   "outputs": [],
   "source": [
    "#total Property_Type quantities by Parking_Space\n",
    "top_ten=data_clean_desc.groupby('Property_Type').CCTV.sum().astype(int).sort_values(ascending=False)[:10]"
   ]
  },
  {
   "cell_type": "code",
   "execution_count": 95,
   "id": "98f1d030",
   "metadata": {},
   "outputs": [
    {
     "data": {
      "text/plain": [
       "Property_Type\n",
       "Mini flat                 23\n",
       "Self contain               7\n",
       "Detached bungalow          1\n",
       "Detached duplex            1\n",
       "Flat / apartment           1\n",
       "Semi detached duplex       1\n",
       "Blocks of flats            0\n",
       "Massionette house          0\n",
       "Penthouse flat             0\n",
       "Semi detached bungalow     0\n",
       "Name: CCTV, dtype: int32"
      ]
     },
     "execution_count": 95,
     "metadata": {},
     "output_type": "execute_result"
    }
   ],
   "source": [
    "top_ten"
   ]
  },
  {
   "cell_type": "code",
   "execution_count": 96,
   "id": "e6bfa0b4",
   "metadata": {},
   "outputs": [
    {
     "data": {
      "text/plain": [
       "<BarContainer object of 10 artists>"
      ]
     },
     "execution_count": 96,
     "metadata": {},
     "output_type": "execute_result"
    },
    {
     "data": {
      "image/png": "[encoded data removed]",
      "text/plain": [
       "<Figure size 432x288 with 1 Axes>"
      ]
     },
     "metadata": {
      "needs_background": "light"
     },
     "output_type": "display_data"
    }
   ],
   "source": [
    "plt.barh(y=top_ten.index, width=top_ten)"
   ]
  },
  {
   "cell_type": "code",
   "execution_count": 100,
   "id": "b54305cf",
   "metadata": {},
   "outputs": [
    {
     "data": {
      "image/png": "[encoded data removed]",
      "text/plain": [
       "<Figure size 432x288 with 1 Axes>"
      ]
     },
     "metadata": {},
     "output_type": "display_data"
    }
   ],
   "source": [
    "#let's try a pie chart\n",
    "\n",
    "plt.pie(top_ten,labels=top_ten.index)\n",
    "plt.show()"
   ]
  },
  {
   "cell_type": "code",
   "execution_count": null,
   "id": "b2f01ef2",
   "metadata": {},
   "outputs": [],
   "source": [
    "\n"
   ]
  },
  {
   "cell_type": "code",
   "execution_count": 102,
   "id": "dcf66c95",
   "metadata": {},
   "outputs": [
    {
     "data": {
      "text/plain": [
       "<BarContainer object of 10 artists>"
      ]
     },
     "execution_count": 102,
     "metadata": {},
     "output_type": "execute_result"
    },
    {
     "data": {
      "image/png": "[encoded data removed]",
      "text/plain": [
       "<Figure size 432x288 with 1 Axes>"
      ]
     },
     "metadata": {
      "needs_background": "light"
     },
     "output_type": "display_data"
    }
   ],
   "source": [
    "plt.barh(y=top_ten.index, width=top_ten)"
   ]
  },
  {
   "cell_type": "code",
   "execution_count": null,
   "id": "ca3e9d23",
   "metadata": {},
   "outputs": [],
   "source": []
  },
  {
   "cell_type": "code",
   "execution_count": 105,
   "id": "49265a1d",
   "metadata": {},
   "outputs": [
    {
     "data": {
      "text/plain": [
       "<AxesSubplot:xlabel='Property_Type'>"
      ]
     },
     "execution_count": 105,
     "metadata": {},
     "output_type": "execute_result"
    },
    {
     "data": {
      "image/png": "[encoded data removed]",
      "text/plain": [
       "<Figure size 432x288 with 1 Axes>"
      ]
     },
     "metadata": {
      "needs_background": "light"
     },
     "output_type": "display_data"
    }
   ],
   "source": [
    "#sales quantity by dates\n",
    "data_clean_desc.groupby('Property_Type').price.sum().plot()"
   ]
  },
  {
   "cell_type": "code",
   "execution_count": null,
   "id": "d4fafacf",
   "metadata": {},
   "outputs": [],
   "source": []
  }
 ],
 "metadata": {
  "kernelspec": {
   "display_name": "Python 3",
   "language": "python",
   "name": "python3"
  },
  "language_info": {
   "codemirror_mode": {
    "name": "ipython",
    "version": 3
   },
   "file_extension": ".py",
   "mimetype": "text/x-python",
   "name": "python",
   "nbconvert_exporter": "python",
   "pygments_lexer": "ipython3",
   "version": "3.8.8"
  }
 },
 "nbformat": 4,
 "nbformat_minor": 5
}
